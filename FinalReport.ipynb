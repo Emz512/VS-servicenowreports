{
 "cells": [
  {
   "cell_type": "markdown",
   "id": "98cafc6a-88ed-4d29-899e-e1ce52ac22ba",
   "metadata": {},
   "source": [
    "# Report "
   ]
  },
  {
   "cell_type": "markdown",
   "id": "4b1e9723-f1a0-494e-8c6b-b71d8543bc4e",
   "metadata": {
    "jp-MarkdownHeadingCollapsed": true
   },
   "source": [
    "## Section 1: Introduction and Overview"
   ]
  },
  {
   "cell_type": "markdown",
   "id": "0ba920d6-f4c3-4cd8-b870-7d162d783504",
   "metadata": {},
   "source": [
    "### 1.1 Introduction to the Dataset."
   ]
  },
  {
   "cell_type": "markdown",
   "id": "42857053-e25c-48c4-9e1b-7b487877fa59",
   "metadata": {},
   "source": [
    "This dataset contains information related to incidents reported in the system from 1st of August 2023 till date.\n",
    "Including details about the diagnosed and reported entities, assignment status, resolution information, business impact, and timestamps associated with each incident. The dataset aims to provide insights into incident handling and resolution within a specific context."
   ]
  },
  {
   "cell_type": "markdown",
   "id": "923e2dc0-01f0-4a6c-9765-0ce443f65335",
   "metadata": {},
   "source": [
    "### 1.2 Summary of Dataset Structure."
   ]
  },
  {
   "cell_type": "markdown",
   "id": "653d7e45-2e2d-481d-a830-bc0e910c368b",
   "metadata": {},
   "source": [
    "The dataset comprises 1330 entries with 26 columns.\n",
    "- Columns include information such as incident number, diagnosed and reported entities, assignment details, states, priority, timestamps, business duration, and reopen count."
   ]
  },
  {
   "cell_type": "markdown",
   "id": "3617986a-d544-4d25-a9bd-190800bc615b",
   "metadata": {},
   "source": [
    "### 1.3 General Statistics and Overview:"
   ]
  },
  {
   "cell_type": "markdown",
   "id": "925fa4e7-981b-407e-a856-00d20df37f40",
   "metadata": {},
   "source": [
    "General Statistics:\n",
    "\n",
    "- **business_duration (in seconds):**\n",
    "  - Mean: 240,679.7 seconds\n",
    "  - Standard Deviation: 218,996.9 seconds\n",
    "  - Minimum: 0 seconds\n",
    "  - 25th Percentile: 86,400 seconds\n",
    "  - Median (50th Percentile): 172,800 seconds\n",
    "  - 75th Percentile: 374,400 seconds\n",
    "  - Maximum: 1,929,600 seconds\n",
    "\n",
    "- **business_duration (in DDHHMM format):**\n",
    "  - Mean: 2 days 18 hours 51 minutes\n",
    "  - Standard Deviation: 2 days 12 hours 50 minutes\n",
    "  - Minimum: 0 days 0 hours 0 minutes\n",
    "  - 25th Percentile: 1 day 0 hours 0 minutes\n",
    "  - Median (50th Percentile): 2 days 0 hours 0 minutes\n",
    "  - 75th Percentile: 4 days 8 hours 0 minutes\n",
    "  - Maximum: 22 days 8 hours 0 minutes\n",
    "\n",
    "- **reopen_count:**\n",
    "  - Mean: 0.0466\n",
    "  - Standard Deviation: 0.2144\n",
    "  - Minimum: 0\n",
    "  - Maximum: 2\n",
    "\n",
    "#### Number of Unique Values in Each Column:\n",
    "\n",
    "- **number:** 1,330\n",
    "- **u_diagnosed_entity:** 13\n",
    "- **u_reported_entity:** 5\n",
    "- **assigned_to:** 16\n",
    "- **u_sub_area.u_sub_area_code:** 60\n",
    "- **u_sub_area:** 70\n",
    "- ... (similarly for other cols."
   ]
  },
  {
   "cell_type": "markdown",
   "id": "012c26a9-02eb-491b-92fb-7f84fc6a7cc2",
   "metadata": {
    "jp-MarkdownHeadingCollapsed": true
   },
   "source": [
    "## Section 2: Incident Distribution and Priority"
   ]
  },
  {
   "cell_type": "markdown",
   "id": "a7ff5284-b8fe-4078-aab5-81d512e8b542",
   "metadata": {},
   "source": [
    "#### Visualization: Incident Counts by Priority\r\n",
    "\r\n",
    "![Incident Counts by Priority](inc.png)\r\n",
    "\r\n",
    "*Note: The image above shows the incident distribution by priority with enhanced aesthetics.*\r\n"
   ]
  },
  {
   "cell_type": "markdown",
   "id": "d4672c2d-7818-483e-a36d-0287a06ca55c",
   "metadata": {
    "jp-MarkdownHeadingCollapsed": true
   },
   "source": [
    "## Section 3: State-wise Analysis"
   ]
  },
  {
   "cell_type": "markdown",
   "id": "45290aba-cab3-4367-8346-68c4fffee01f",
   "metadata": {},
   "source": [
    "#### Visualization: Incident Counts by State\n",
    "\n",
    "![Incident Counts by state](inc_state.png)\n",
    "\n",
    "*Note: The image above shows the incident distribution by state with enhanced aesthetics.*\n"
   ]
  },
  {
   "cell_type": "markdown",
   "id": "8cd67d53-e6a9-47bf-8718-d11b2ce4dfeb",
   "metadata": {
    "jp-MarkdownHeadingCollapsed": true
   },
   "source": [
    "## Section 4: Resolution Analysis"
   ]
  },
  {
   "cell_type": "markdown",
   "id": "c164f6db-496b-44db-9b88-9a007e60f149",
   "metadata": {},
   "source": [
    "#### Visualization: Distribution of Resolution Times \r\n",
    "\r\n",
    "![Distribution of Resolution Times](resolution_histogram_days.png)\r\n"
   ]
  },
  {
   "cell_type": "markdown",
   "id": "c7cbbdd5-1320-470d-98cb-27c79f668cfa",
   "metadata": {},
   "source": [
    "#### Distribution of Resolution Times\r\n",
    "The graph represents the distribution of resolution times for incidents, measured in days. Each bar in the histogram corresponds to a range of resolution times, and the height of the bar indicates the frequency or the number of incidents falling within that particular range. The blue curve overlaid on the bars is the Kernel Density Estimation (KDE), providing a smoothed representation of the distribution.\r\n",
    "\r\n",
    "Mean Resolution Time (Red Dashed Line): The red dashed line represents the mean resolution time, which is the average time taken to resolve incidents. It is a useful measure to understand the typical resolution time.\r\n",
    "\r\n",
    "Median Resolution Time (Green Dashed Line): The green dashed line represents the median resolution time, which is the middle point of the dataset when arranged in ascending order. It is a robust measure that is not affected by outliers and gives insight into the central tendency of the resolution times."
   ]
  },
  {
   "cell_type": "markdown",
   "id": "a1181691-55aa-460e-bebe-fca2c527ecc8",
   "metadata": {
    "jp-MarkdownHeadingCollapsed": true
   },
   "source": [
    "## Serction 5: Issue Analysis"
   ]
  },
  {
   "cell_type": "markdown",
   "id": "8d2d0801-1ec4-4e29-94dc-628fa7c90da7",
   "metadata": {},
   "source": [
    "### Counts of Initial Identified Issues:\n",
    "\n",
    "- **Not Technical**: 433 incidents\n",
    "- **Adlocker Issue**: 310 incidents\n",
    "- **Backend**: 125 incidents\n",
    "- **Intermittent API Issue**: 116 incidents\n",
    "- **Front End**: 81 incidents\n",
    "- **Adpay Issue**: 70 incidents\n",
    "- **Mobile/Portal Issue**: 51 incidents\n",
    "- **Captcha Issue**: 39 incidents\n",
    "- **APIs Integration**: 6 incidents\n",
    "- **Database**: 7 incidents\n",
    "- **SmartHub/DMT**: 3 incidents\n",
    "- **Inadequate Service Testing**: 2 incidents\n",
    "- **Data Base (with space)**: 2 incidents\n",
    "- **Security**: 1 incident\n",
    "\n",
    "These counts provide valuable insights into the types and frequencies of initial identified issues, allowing us to focus on areas that require attention and improvement.\n",
    "\n",
    "---\n"
   ]
  }
 ],
 "metadata": {
  "kernelspec": {
   "display_name": "Python 3 (ipykernel)",
   "language": "python",
   "name": "python3"
  },
  "language_info": {
   "codemirror_mode": {
    "name": "ipython",
    "version": 3
   },
   "file_extension": ".py",
   "mimetype": "text/x-python",
   "name": "python",
   "nbconvert_exporter": "python",
   "pygments_lexer": "ipython3",
   "version": "3.11.5"
  }
 },
 "nbformat": 4,
 "nbformat_minor": 5
}
